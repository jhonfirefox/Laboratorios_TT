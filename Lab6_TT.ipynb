{
  "nbformat": 4,
  "nbformat_minor": 0,
  "metadata": {
    "colab": {
      "provenance": [],
      "authorship_tag": "ABX9TyNwCLeHeKqUVx9afxEN7/g9",
      "include_colab_link": true
    },
    "kernelspec": {
      "name": "python3",
      "display_name": "Python 3"
    },
    "language_info": {
      "name": "python"
    }
  },
  "cells": [
    {
      "cell_type": "markdown",
      "metadata": {
        "id": "view-in-github",
        "colab_type": "text"
      },
      "source": [
        "<a href=\"https://colab.research.google.com/github/jhonfirefox/Laboratorios_TT/blob/main/Lab6_TT.ipynb\" target=\"_parent\"><img src=\"https://colab.research.google.com/assets/colab-badge.svg\" alt=\"Open In Colab\"/></a>"
      ]
    },
    {
      "cell_type": "markdown",
      "source": [
        "**1. Algoritmo para Preparar un Té: Este algoritmo describe los pasos para preparar un té y lo implementamos en Python.**"
      ],
      "metadata": {
        "id": "BwhQWqUJeBJl"
      }
    },
    {
      "cell_type": "code",
      "execution_count": 1,
      "metadata": {
        "colab": {
          "base_uri": "https://localhost:8080/",
          "height": 0
        },
        "id": "ECaby3t7dkRp",
        "outputId": "afb2df9a-f92e-420b-a382-6a0987a058b7"
      },
      "outputs": [
        {
          "output_type": "stream",
          "name": "stdout",
          "text": [
            "¡Vamos a preparar un té!\n",
            "Colocando el agua en el hervidor...\n",
            "El agua está hirviendo...\n",
            "Colocando la bolsita de té en la taza...\n",
            "Vertiendo el agua caliente sobre el té...\n",
            "Dejando reposar el té durante 3-5 minutos...\n",
            "¿Te gustaría añadir azúcar, leche o limón? (sí/no): sí\n",
            "¿Qué te gustaría añadir? (azúcar, leche, limón): leche\n",
            "Añadiendo leche al té...\n",
            "Revolviendo el té para mezclar los ingredientes...\n",
            "¡Tu té está listo para disfrutar!\n"
          ]
        }
      ],
      "source": [
        "# Función para calentar el agua\n",
        "def hervir_agua():\n",
        "    print(\"Colocando el agua en el hervidor...\")\n",
        "    print(\"El agua está hirviendo...\")\n",
        "    return True\n",
        "\n",
        "# Función para preparar el té\n",
        "def preparar_te():\n",
        "    print(\"Colocando la bolsita de té en la taza...\")\n",
        "    print(\"Vertiendo el agua caliente sobre el té...\")\n",
        "    print(\"Dejando reposar el té durante 3-5 minutos...\")\n",
        "\n",
        "# Función para añadir opcionales (leche, azúcar, limón)\n",
        "def añadir_opcionales():\n",
        "    opcionales = input(\"¿Te gustaría añadir azúcar, leche o limón? (sí/no): \").strip().lower()\n",
        "    if opcionales == \"sí\":\n",
        "        ingrediente = input(\"¿Qué te gustaría añadir? (azúcar, leche, limón): \").strip().lower()\n",
        "        if ingrediente == \"azúcar\":\n",
        "            print(\"Añadiendo azúcar al té...\")\n",
        "        elif ingrediente == \"leche\":\n",
        "            print(\"Añadiendo leche al té...\")\n",
        "        elif ingrediente == \"limón\":\n",
        "            print(\"Añadiendo limón al té...\")\n",
        "        else:\n",
        "            print(\"Ingrediente no reconocido. No se añadió nada.\")\n",
        "    else:\n",
        "        print(\"No se añadieron ingredientes adicionales.\")\n",
        "\n",
        "# Función para revolver el té\n",
        "def revolver_te():\n",
        "    print(\"Revolviendo el té para mezclar los ingredientes...\")\n",
        "\n",
        "# Función principal para preparar el té\n",
        "def preparar_te_principal():\n",
        "    print(\"¡Vamos a preparar un té!\")\n",
        "\n",
        "    # Paso 1: Hervir agua\n",
        "    if hervir_agua():\n",
        "        # Paso 2: Preparar el té\n",
        "        preparar_te()\n",
        "\n",
        "        # Paso 3: Añadir opcionales\n",
        "        añadir_opcionales()\n",
        "\n",
        "        # Paso 4: Revolver el té\n",
        "        revolver_te()\n",
        "\n",
        "        # Paso 5: Finalizar\n",
        "        print(\"¡Tu té está listo para disfrutar!\")\n",
        "\n",
        "# Ejecutar el algoritmo\n",
        "preparar_te_principal()"
      ]
    },
    {
      "cell_type": "markdown",
      "source": [
        "**Cálculo del Promedio de Notas:\n",
        "Utilizar variables y tipos de datos para almacenar las notas de un estudiante, y un operador aritmético para calcular el promedio.**\n"
      ],
      "metadata": {
        "id": "RujVoWRceO1D"
      }
    },
    {
      "cell_type": "code",
      "source": [
        "# Paso 1: Solicitar las notas del estudiante\n",
        "nota1 = float(input(\"Ingresa la primera nota: \"))\n",
        "nota2 = float(input(\"Ingresa la segunda nota: \"))\n",
        "nota3 = float(input(\"Ingresa la tercera nota: \"))\n",
        "nota4 = float(input(\"Ingresa la cuarta nota: \"))\n",
        "\n",
        "# Paso 2: Sumar las notas\n",
        "suma_notas = nota1 + nota2 + nota3 + nota4\n",
        "\n",
        "# Paso 3: Calcular el promedio\n",
        "promedio = suma_notas / 4\n",
        "\n",
        "# Paso 4: Mostrar el promedio\n",
        "print(\"El promedio de las notas es:\", promedio)\n"
      ],
      "metadata": {
        "colab": {
          "base_uri": "https://localhost:8080/",
          "height": 0
        },
        "id": "hD5dsqqWdqm2",
        "outputId": "b31534c8-2000-4cbf-a60e-3e72ec4e7701"
      },
      "execution_count": 2,
      "outputs": [
        {
          "output_type": "stream",
          "name": "stdout",
          "text": [
            "Ingresa la primera nota: 5\n",
            "Ingresa la segunda nota: 4.5\n",
            "Ingresa la tercera nota: 4\n",
            "Ingresa la cuarta nota: 3.5\n",
            "El promedio de las notas es: 4.25\n"
          ]
        }
      ]
    },
    {
      "cell_type": "markdown",
      "source": [
        "**3. Verificar si un Número es Par o Impar: Utiliza condicionales para verificar si un número es par o impar, y operadores para realizar el cálculo.**"
      ],
      "metadata": {
        "id": "CCXgk3S0eZOr"
      }
    },
    {
      "cell_type": "code",
      "source": [
        "# Paso 1: Usar un bucle 'for' para iterar de 1 a 5\n",
        "for numero in range(1, 6):  # range(1, 6) genera los números 1, 2, 3, 4, 5\n",
        "    # Paso 2: Verificar si el número es par o impar\n",
        "    if numero % 2 == 0:  # Si el residuo de dividir el número por 2 es 0, es par\n",
        "        print(f\"El número {numero} es par.\")\n",
        "    else:\n",
        "        print(f\"El número {numero} es impar.\")"
      ],
      "metadata": {
        "colab": {
          "base_uri": "https://localhost:8080/",
          "height": 0
        },
        "id": "C0vhybOkd3RF",
        "outputId": "3435acbb-e2a2-4773-c869-69b94c8361ab"
      },
      "execution_count": 3,
      "outputs": [
        {
          "output_type": "stream",
          "name": "stdout",
          "text": [
            "El número 1 es impar.\n",
            "El número 2 es par.\n",
            "El número 3 es impar.\n",
            "El número 4 es par.\n",
            "El número 5 es impar.\n"
          ]
        }
      ]
    },
    {
      "cell_type": "markdown",
      "source": [
        "**5. Convertir grados Celsius a Fahrenheit: Usar una función para convertir grados Celsius a Fahrenheit. La fórmula para la conversión es Fahrenheit = (Celsius * 9/5) + 32.**\n"
      ],
      "metadata": {
        "id": "MHNWUMr8ef6i"
      }
    },
    {
      "cell_type": "code",
      "source": [
        "# Paso 1: Definir la función para convertir de Celsius a Fahrenheit\n",
        "def celsius_a_fahrenheit(celsius):\n",
        "    fahrenheit = (celsius * 9/5) + 32  # Fórmula de conversión\n",
        "    return fahrenheit\n",
        "\n",
        "# Paso 2: Solicitar la temperatura en Celsius al usuario\n",
        "celsius = float(input(\"Ingresa la temperatura en grados Celsius: \"))\n",
        "\n",
        "# Paso 3: Llamar a la función para convertir a Fahrenheit\n",
        "fahrenheit = celsius_a_fahrenheit(celsius)\n",
        "\n",
        "# Paso 4: Mostrar el resultado\n",
        "print(f\"{celsius} grados Celsius son {fahrenheit} grados Fahrenheit.\")\n"
      ],
      "metadata": {
        "colab": {
          "base_uri": "https://localhost:8080/",
          "height": 0
        },
        "id": "-2EtWzDPd6HE",
        "outputId": "f6925eca-cfbe-439a-f592-c36ac5e36a22"
      },
      "execution_count": 4,
      "outputs": [
        {
          "output_type": "stream",
          "name": "stdout",
          "text": [
            "Ingresa la temperatura en grados Celsius: 45\n",
            "45.0 grados Celsius son 113.0 grados Fahrenheit.\n"
          ]
        }
      ]
    },
    {
      "cell_type": "markdown",
      "source": [
        "**6. Contar la Cantidad de Vocales en una Cadena de Texto: Utilizar un bucle for y una condicional para contar cuántas vocales hay en una cadena de texto ingresada por el usuario.**"
      ],
      "metadata": {
        "id": "aBwDSXFse41J"
      }
    },
    {
      "cell_type": "code",
      "source": [
        "# Paso 1: Solicitar al usuario una cadena de texto\n",
        "texto = input(\"Ingresa una cadena de texto: \")\n",
        "\n",
        "# Paso 2: Inicializar el contador de vocales\n",
        "contador_vocales = 0\n",
        "\n",
        "# Paso 3: Usar un bucle 'for' para recorrer cada carácter de la cadena\n",
        "for caracter in texto:\n",
        "    # Paso 4: Verificar si el carácter es una vocal\n",
        "    if caracter.lower() in 'aeiou':  # Usamos .lower() para manejar mayúsculas y minúsculas\n",
        "        contador_vocales += 1  # Incrementar el contador si es una vocal\n",
        "\n",
        "# Paso 5: Mostrar el resultado\n",
        "print(f\"El número de vocales en la cadena es: {contador_vocales}\")"
      ],
      "metadata": {
        "colab": {
          "base_uri": "https://localhost:8080/",
          "height": 0
        },
        "id": "DG9hsBI3d9Q0",
        "outputId": "0915b8f5-0c39-4ad1-cb46-abe9cc124f29"
      },
      "execution_count": 7,
      "outputs": [
        {
          "output_type": "stream",
          "name": "stdout",
          "text": [
            "Ingresa una cadena de texto: Jhon Carlos Yanten\n",
            "El número de vocales en la cadena es: 5\n"
          ]
        }
      ]
    },
    {
      "cell_type": "markdown",
      "source": [
        "**7. Calcular el Factorial de un Número: Usar un bucle while para calcular la factorial de un número ingresado por el usuario. La factorial de un número n (n!) es el producto de todos los números enteros positivos menores o iguales a n.**"
      ],
      "metadata": {
        "id": "IIXnSKUGe8QZ"
      }
    },
    {
      "cell_type": "code",
      "source": [
        "# Paso 1: Solicitar al usuario el número para calcular el factorial\n",
        "n = int(input(\"Ingresa un número para calcular su factorial: \"))\n",
        "\n",
        "# Paso 2: Inicializar la variable resultado\n",
        "resultado = 1\n",
        "\n",
        "# Paso 3: Usar un bucle while para calcular el factorial\n",
        "while n > 1:\n",
        "    resultado *= n  # Multiplicar el resultado por el número actual\n",
        "    n -= 1           # Disminuir el valor de n en 1\n",
        "\n",
        "# Paso 4: Mostrar el resultado final\n",
        "print(f\"El factorial de {n} es: {resultado}\")"
      ],
      "metadata": {
        "colab": {
          "base_uri": "https://localhost:8080/",
          "height": 0
        },
        "id": "pnpNv2lSd_4s",
        "outputId": "a56e8283-ac95-4284-8024-ab27826d4436"
      },
      "execution_count": 6,
      "outputs": [
        {
          "output_type": "stream",
          "name": "stdout",
          "text": [
            "Ingresa un número para calcular su factorial: 10\n",
            "El factorial de 1 es: 3628800\n"
          ]
        }
      ]
    }
  ]
}