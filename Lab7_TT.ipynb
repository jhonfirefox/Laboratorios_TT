{
  "nbformat": 4,
  "nbformat_minor": 0,
  "metadata": {
    "colab": {
      "provenance": [],
      "authorship_tag": "ABX9TyMsXUYae4KHSUDRVjsf/3Ke",
      "include_colab_link": true
    },
    "kernelspec": {
      "name": "python3",
      "display_name": "Python 3"
    },
    "language_info": {
      "name": "python"
    }
  },
  "cells": [
    {
      "cell_type": "markdown",
      "metadata": {
        "id": "view-in-github",
        "colab_type": "text"
      },
      "source": [
        "<a href=\"https://colab.research.google.com/github/jhonfirefox/Laboratorios_TT/blob/main/Lab7_TT.ipynb\" target=\"_parent\"><img src=\"https://colab.research.google.com/assets/colab-badge.svg\" alt=\"Open In Colab\"/></a>"
      ]
    },
    {
      "cell_type": "markdown",
      "source": [
        "# **Parte 1**\n",
        "\n",
        "El primer ejercicio de práctica deberás realizar el código usando las funciones y bibliotecas Panda en Python, con el respectivo grafico según el caso, escribir el respectivo código y mostrar el resultado, aplicar los temas vistos en clase."
      ],
      "metadata": {
        "id": "etm_2nkBjRUL"
      }
    },
    {
      "cell_type": "code",
      "execution_count": 1,
      "metadata": {
        "colab": {
          "base_uri": "https://localhost:8080/",
          "height": 0
        },
        "id": "dSQ8Sw5hi6cJ",
        "outputId": "f4560b9d-e9ac-4798-a223-6be77f7bdf90"
      },
      "outputs": [
        {
          "output_type": "stream",
          "name": "stdout",
          "text": [
            "            Nombre   Profesión       País\n",
            "0       Juan Pérez   Ingeniero     España\n",
            "1        Ana López     Doctora     México\n",
            "2    Carlos García     Abogado  Argentina\n",
            "3   Laura Martínez  Arquitecta   Colombia\n",
            "4   José Rodríguez    Profesor      Chile\n",
            "5    Marta Sánchez  Diseñadora       Perú\n",
            "6      Pedro Gómez      Músico    Uruguay\n",
            "7  Lucía Fernández  Periodista     España\n"
          ]
        }
      ],
      "source": [
        "#Crear un DataFrame con los nombres, profesión y países de 8 personas, y luego imprimir el DataFrame.\n",
        "import pandas as pd\n",
        "\n",
        "# Crear el diccionario con los datos de las personas\n",
        "datos = {\n",
        "    \"Nombre\": [\"Juan Pérez\", \"Ana López\", \"Carlos García\", \"Laura Martínez\", \"José Rodríguez\", \"Marta Sánchez\", \"Pedro Gómez\", \"Lucía Fernández\"],\n",
        "    \"Profesión\": [\"Ingeniero\", \"Doctora\", \"Abogado\", \"Arquitecta\", \"Profesor\", \"Diseñadora\", \"Músico\", \"Periodista\"],\n",
        "    \"País\": [\"España\", \"México\", \"Argentina\", \"Colombia\", \"Chile\", \"Perú\", \"Uruguay\", \"España\"]\n",
        "}\n",
        "\n",
        "# Crear el DataFrame\n",
        "df = pd.DataFrame(datos)\n",
        "\n",
        "# Imprimir el DataFrame\n",
        "print(df)"
      ]
    },
    {
      "cell_type": "code",
      "source": [
        "#Cargar un archivo CSV (puedes usar un archivo de ejemplo en tu entorno) y mostrar las primeras 5 filas.\n",
        "url  = \"https://raw.githubusercontent.com/jhonfirefox/Laboratorios_TT/main/Lab1_DA.csv\"\n",
        "\n",
        "Dlist1 = pd.read_csv(url, sep=\",\", decimal=\".\", encoding='windows-1252')\n",
        "Dlist1.head(5)\n"
      ],
      "metadata": {
        "colab": {
          "base_uri": "https://localhost:8080/",
          "height": 206
        },
        "id": "tBpaXFwTjurR",
        "outputId": "fdfa006b-2896-4b91-bd60-52baaa0f57d5"
      },
      "execution_count": 2,
      "outputs": [
        {
          "output_type": "execute_result",
          "data": {
            "text/plain": [
              "  id     cedula    nombres y apellidos           direccion     celular  \\\n",
              "0  1   45673849           ana gonzalez        cl 2 #123-34  3114562728   \n",
              "1  2   38755920             berta cruz   carrera 3 # 23-23  3108976542   \n",
              "2  3  867433939      roberto     rios         cl 32 #45-23  3004567283   \n",
              "3  4  387575741            mariacastro  carrera 32 # 34-43  3057893245   \n",
              "4  5   12234421         marrria   rios      cl132 #145-123  3125578930   \n",
              "\n",
              "      correo electronico        pais valor factura   servicio  \\\n",
              "0           ag@gmail.com    colombia         45000     hogarr   \n",
              "1      berta@hotmail.com  colombiaaa         34876      rogar   \n",
              "2                    NaN       chile         23456   comercio   \n",
              "3      mcastro@yahoo.com      chiles         45000  comerciio   \n",
              "4  lindatriana@gmail.com      japonn        450000   comercio   \n",
              "\n",
              "     fecha instalacion comentarios observaciones  \n",
              "0             5/3/2023           .             .  \n",
              "1            6/30/2022           *           NaN  \n",
              "2  8 de junio de 2024.          na           NaN  \n",
              "3            2021-23-1         NaN           NaN  \n",
              "4            4/20/2022           .             *  "
            ],
            "text/html": [
              "\n",
              "  <div id=\"df-1960c0b8-35e5-4061-b7a8-a101bcd5be64\" class=\"colab-df-container\">\n",
              "    <div>\n",
              "<style scoped>\n",
              "    .dataframe tbody tr th:only-of-type {\n",
              "        vertical-align: middle;\n",
              "    }\n",
              "\n",
              "    .dataframe tbody tr th {\n",
              "        vertical-align: top;\n",
              "    }\n",
              "\n",
              "    .dataframe thead th {\n",
              "        text-align: right;\n",
              "    }\n",
              "</style>\n",
              "<table border=\"1\" class=\"dataframe\">\n",
              "  <thead>\n",
              "    <tr style=\"text-align: right;\">\n",
              "      <th></th>\n",
              "      <th>id</th>\n",
              "      <th>cedula</th>\n",
              "      <th>nombres y apellidos</th>\n",
              "      <th>direccion</th>\n",
              "      <th>celular</th>\n",
              "      <th>correo electronico</th>\n",
              "      <th>pais</th>\n",
              "      <th>valor factura</th>\n",
              "      <th>servicio</th>\n",
              "      <th>fecha instalacion</th>\n",
              "      <th>comentarios</th>\n",
              "      <th>observaciones</th>\n",
              "    </tr>\n",
              "  </thead>\n",
              "  <tbody>\n",
              "    <tr>\n",
              "      <th>0</th>\n",
              "      <td>1</td>\n",
              "      <td>45673849</td>\n",
              "      <td>ana gonzalez</td>\n",
              "      <td>cl 2 #123-34</td>\n",
              "      <td>3114562728</td>\n",
              "      <td>ag@gmail.com</td>\n",
              "      <td>colombia</td>\n",
              "      <td>45000</td>\n",
              "      <td>hogarr</td>\n",
              "      <td>5/3/2023</td>\n",
              "      <td>.</td>\n",
              "      <td>.</td>\n",
              "    </tr>\n",
              "    <tr>\n",
              "      <th>1</th>\n",
              "      <td>2</td>\n",
              "      <td>38755920</td>\n",
              "      <td>berta cruz</td>\n",
              "      <td>carrera 3 # 23-23</td>\n",
              "      <td>3108976542</td>\n",
              "      <td>berta@hotmail.com</td>\n",
              "      <td>colombiaaa</td>\n",
              "      <td>34876</td>\n",
              "      <td>rogar</td>\n",
              "      <td>6/30/2022</td>\n",
              "      <td>*</td>\n",
              "      <td>NaN</td>\n",
              "    </tr>\n",
              "    <tr>\n",
              "      <th>2</th>\n",
              "      <td>3</td>\n",
              "      <td>867433939</td>\n",
              "      <td>roberto     rios</td>\n",
              "      <td>cl 32 #45-23</td>\n",
              "      <td>3004567283</td>\n",
              "      <td>NaN</td>\n",
              "      <td>chile</td>\n",
              "      <td>23456</td>\n",
              "      <td>comercio</td>\n",
              "      <td>8 de junio de 2024.</td>\n",
              "      <td>na</td>\n",
              "      <td>NaN</td>\n",
              "    </tr>\n",
              "    <tr>\n",
              "      <th>3</th>\n",
              "      <td>4</td>\n",
              "      <td>387575741</td>\n",
              "      <td>mariacastro</td>\n",
              "      <td>carrera 32 # 34-43</td>\n",
              "      <td>3057893245</td>\n",
              "      <td>mcastro@yahoo.com</td>\n",
              "      <td>chiles</td>\n",
              "      <td>45000</td>\n",
              "      <td>comerciio</td>\n",
              "      <td>2021-23-1</td>\n",
              "      <td>NaN</td>\n",
              "      <td>NaN</td>\n",
              "    </tr>\n",
              "    <tr>\n",
              "      <th>4</th>\n",
              "      <td>5</td>\n",
              "      <td>12234421</td>\n",
              "      <td>marrria   rios</td>\n",
              "      <td>cl132 #145-123</td>\n",
              "      <td>3125578930</td>\n",
              "      <td>lindatriana@gmail.com</td>\n",
              "      <td>japonn</td>\n",
              "      <td>450000</td>\n",
              "      <td>comercio</td>\n",
              "      <td>4/20/2022</td>\n",
              "      <td>.</td>\n",
              "      <td>*</td>\n",
              "    </tr>\n",
              "  </tbody>\n",
              "</table>\n",
              "</div>\n",
              "    <div class=\"colab-df-buttons\">\n",
              "\n",
              "  <div class=\"colab-df-container\">\n",
              "    <button class=\"colab-df-convert\" onclick=\"convertToInteractive('df-1960c0b8-35e5-4061-b7a8-a101bcd5be64')\"\n",
              "            title=\"Convert this dataframe to an interactive table.\"\n",
              "            style=\"display:none;\">\n",
              "\n",
              "  <svg xmlns=\"http://www.w3.org/2000/svg\" height=\"24px\" viewBox=\"0 -960 960 960\">\n",
              "    <path d=\"M120-120v-720h720v720H120Zm60-500h600v-160H180v160Zm220 220h160v-160H400v160Zm0 220h160v-160H400v160ZM180-400h160v-160H180v160Zm440 0h160v-160H620v160ZM180-180h160v-160H180v160Zm440 0h160v-160H620v160Z\"/>\n",
              "  </svg>\n",
              "    </button>\n",
              "\n",
              "  <style>\n",
              "    .colab-df-container {\n",
              "      display:flex;\n",
              "      gap: 12px;\n",
              "    }\n",
              "\n",
              "    .colab-df-convert {\n",
              "      background-color: #E8F0FE;\n",
              "      border: none;\n",
              "      border-radius: 50%;\n",
              "      cursor: pointer;\n",
              "      display: none;\n",
              "      fill: #1967D2;\n",
              "      height: 32px;\n",
              "      padding: 0 0 0 0;\n",
              "      width: 32px;\n",
              "    }\n",
              "\n",
              "    .colab-df-convert:hover {\n",
              "      background-color: #E2EBFA;\n",
              "      box-shadow: 0px 1px 2px rgba(60, 64, 67, 0.3), 0px 1px 3px 1px rgba(60, 64, 67, 0.15);\n",
              "      fill: #174EA6;\n",
              "    }\n",
              "\n",
              "    .colab-df-buttons div {\n",
              "      margin-bottom: 4px;\n",
              "    }\n",
              "\n",
              "    [theme=dark] .colab-df-convert {\n",
              "      background-color: #3B4455;\n",
              "      fill: #D2E3FC;\n",
              "    }\n",
              "\n",
              "    [theme=dark] .colab-df-convert:hover {\n",
              "      background-color: #434B5C;\n",
              "      box-shadow: 0px 1px 3px 1px rgba(0, 0, 0, 0.15);\n",
              "      filter: drop-shadow(0px 1px 2px rgba(0, 0, 0, 0.3));\n",
              "      fill: #FFFFFF;\n",
              "    }\n",
              "  </style>\n",
              "\n",
              "    <script>\n",
              "      const buttonEl =\n",
              "        document.querySelector('#df-1960c0b8-35e5-4061-b7a8-a101bcd5be64 button.colab-df-convert');\n",
              "      buttonEl.style.display =\n",
              "        google.colab.kernel.accessAllowed ? 'block' : 'none';\n",
              "\n",
              "      async function convertToInteractive(key) {\n",
              "        const element = document.querySelector('#df-1960c0b8-35e5-4061-b7a8-a101bcd5be64');\n",
              "        const dataTable =\n",
              "          await google.colab.kernel.invokeFunction('convertToInteractive',\n",
              "                                                    [key], {});\n",
              "        if (!dataTable) return;\n",
              "\n",
              "        const docLinkHtml = 'Like what you see? Visit the ' +\n",
              "          '<a target=\"_blank\" href=https://colab.research.google.com/notebooks/data_table.ipynb>data table notebook</a>'\n",
              "          + ' to learn more about interactive tables.';\n",
              "        element.innerHTML = '';\n",
              "        dataTable['output_type'] = 'display_data';\n",
              "        await google.colab.output.renderOutput(dataTable, element);\n",
              "        const docLink = document.createElement('div');\n",
              "        docLink.innerHTML = docLinkHtml;\n",
              "        element.appendChild(docLink);\n",
              "      }\n",
              "    </script>\n",
              "  </div>\n",
              "\n",
              "\n",
              "<div id=\"df-55d7ee24-e1dc-4598-8433-e37e2475f67b\">\n",
              "  <button class=\"colab-df-quickchart\" onclick=\"quickchart('df-55d7ee24-e1dc-4598-8433-e37e2475f67b')\"\n",
              "            title=\"Suggest charts\"\n",
              "            style=\"display:none;\">\n",
              "\n",
              "<svg xmlns=\"http://www.w3.org/2000/svg\" height=\"24px\"viewBox=\"0 0 24 24\"\n",
              "     width=\"24px\">\n",
              "    <g>\n",
              "        <path d=\"M19 3H5c-1.1 0-2 .9-2 2v14c0 1.1.9 2 2 2h14c1.1 0 2-.9 2-2V5c0-1.1-.9-2-2-2zM9 17H7v-7h2v7zm4 0h-2V7h2v10zm4 0h-2v-4h2v4z\"/>\n",
              "    </g>\n",
              "</svg>\n",
              "  </button>\n",
              "\n",
              "<style>\n",
              "  .colab-df-quickchart {\n",
              "      --bg-color: #E8F0FE;\n",
              "      --fill-color: #1967D2;\n",
              "      --hover-bg-color: #E2EBFA;\n",
              "      --hover-fill-color: #174EA6;\n",
              "      --disabled-fill-color: #AAA;\n",
              "      --disabled-bg-color: #DDD;\n",
              "  }\n",
              "\n",
              "  [theme=dark] .colab-df-quickchart {\n",
              "      --bg-color: #3B4455;\n",
              "      --fill-color: #D2E3FC;\n",
              "      --hover-bg-color: #434B5C;\n",
              "      --hover-fill-color: #FFFFFF;\n",
              "      --disabled-bg-color: #3B4455;\n",
              "      --disabled-fill-color: #666;\n",
              "  }\n",
              "\n",
              "  .colab-df-quickchart {\n",
              "    background-color: var(--bg-color);\n",
              "    border: none;\n",
              "    border-radius: 50%;\n",
              "    cursor: pointer;\n",
              "    display: none;\n",
              "    fill: var(--fill-color);\n",
              "    height: 32px;\n",
              "    padding: 0;\n",
              "    width: 32px;\n",
              "  }\n",
              "\n",
              "  .colab-df-quickchart:hover {\n",
              "    background-color: var(--hover-bg-color);\n",
              "    box-shadow: 0 1px 2px rgba(60, 64, 67, 0.3), 0 1px 3px 1px rgba(60, 64, 67, 0.15);\n",
              "    fill: var(--button-hover-fill-color);\n",
              "  }\n",
              "\n",
              "  .colab-df-quickchart-complete:disabled,\n",
              "  .colab-df-quickchart-complete:disabled:hover {\n",
              "    background-color: var(--disabled-bg-color);\n",
              "    fill: var(--disabled-fill-color);\n",
              "    box-shadow: none;\n",
              "  }\n",
              "\n",
              "  .colab-df-spinner {\n",
              "    border: 2px solid var(--fill-color);\n",
              "    border-color: transparent;\n",
              "    border-bottom-color: var(--fill-color);\n",
              "    animation:\n",
              "      spin 1s steps(1) infinite;\n",
              "  }\n",
              "\n",
              "  @keyframes spin {\n",
              "    0% {\n",
              "      border-color: transparent;\n",
              "      border-bottom-color: var(--fill-color);\n",
              "      border-left-color: var(--fill-color);\n",
              "    }\n",
              "    20% {\n",
              "      border-color: transparent;\n",
              "      border-left-color: var(--fill-color);\n",
              "      border-top-color: var(--fill-color);\n",
              "    }\n",
              "    30% {\n",
              "      border-color: transparent;\n",
              "      border-left-color: var(--fill-color);\n",
              "      border-top-color: var(--fill-color);\n",
              "      border-right-color: var(--fill-color);\n",
              "    }\n",
              "    40% {\n",
              "      border-color: transparent;\n",
              "      border-right-color: var(--fill-color);\n",
              "      border-top-color: var(--fill-color);\n",
              "    }\n",
              "    60% {\n",
              "      border-color: transparent;\n",
              "      border-right-color: var(--fill-color);\n",
              "    }\n",
              "    80% {\n",
              "      border-color: transparent;\n",
              "      border-right-color: var(--fill-color);\n",
              "      border-bottom-color: var(--fill-color);\n",
              "    }\n",
              "    90% {\n",
              "      border-color: transparent;\n",
              "      border-bottom-color: var(--fill-color);\n",
              "    }\n",
              "  }\n",
              "</style>\n",
              "\n",
              "  <script>\n",
              "    async function quickchart(key) {\n",
              "      const quickchartButtonEl =\n",
              "        document.querySelector('#' + key + ' button');\n",
              "      quickchartButtonEl.disabled = true;  // To prevent multiple clicks.\n",
              "      quickchartButtonEl.classList.add('colab-df-spinner');\n",
              "      try {\n",
              "        const charts = await google.colab.kernel.invokeFunction(\n",
              "            'suggestCharts', [key], {});\n",
              "      } catch (error) {\n",
              "        console.error('Error during call to suggestCharts:', error);\n",
              "      }\n",
              "      quickchartButtonEl.classList.remove('colab-df-spinner');\n",
              "      quickchartButtonEl.classList.add('colab-df-quickchart-complete');\n",
              "    }\n",
              "    (() => {\n",
              "      let quickchartButtonEl =\n",
              "        document.querySelector('#df-55d7ee24-e1dc-4598-8433-e37e2475f67b button');\n",
              "      quickchartButtonEl.style.display =\n",
              "        google.colab.kernel.accessAllowed ? 'block' : 'none';\n",
              "    })();\n",
              "  </script>\n",
              "</div>\n",
              "\n",
              "    </div>\n",
              "  </div>\n"
            ],
            "application/vnd.google.colaboratory.intrinsic+json": {
              "type": "dataframe",
              "variable_name": "Dlist1",
              "summary": "{\n  \"name\": \"Dlist1\",\n  \"rows\": 19,\n  \"fields\": [\n    {\n      \"column\": \"id\",\n      \"properties\": {\n        \"dtype\": \"string\",\n        \"num_unique_values\": 15,\n        \"samples\": [\n          \"10\",\n          \"12\",\n          \"1\"\n        ],\n        \"semantic_type\": \"\",\n        \"description\": \"\"\n      }\n    },\n    {\n      \"column\": \"cedula\",\n      \"properties\": {\n        \"dtype\": \"string\",\n        \"num_unique_values\": 15,\n        \"samples\": [\n          \"4569303\",\n          \"58393030\",\n          \"45673849\"\n        ],\n        \"semantic_type\": \"\",\n        \"description\": \"\"\n      }\n    },\n    {\n      \"column\": \"nombres y apellidos\",\n      \"properties\": {\n        \"dtype\": \"string\",\n        \"num_unique_values\": 15,\n        \"samples\": [\n          \"    angel ruiz\",\n          \"Elena alvarez\",\n          \"ana gonzalez\"\n        ],\n        \"semantic_type\": \"\",\n        \"description\": \"\"\n      }\n    },\n    {\n      \"column\": \"direccion\",\n      \"properties\": {\n        \"dtype\": \"string\",\n        \"num_unique_values\": 13,\n        \"samples\": [\n          \"Cl 12 #85-44\",\n          \"Cr 33 #98-34\",\n          \"cl 2 #123-34\"\n        ],\n        \"semantic_type\": \"\",\n        \"description\": \"\"\n      }\n    },\n    {\n      \"column\": \"celular\",\n      \"properties\": {\n        \"dtype\": \"string\",\n        \"num_unique_values\": 14,\n        \"samples\": [\n          \"3220498586\",\n          \"3220985622\",\n          \"3114562728\"\n        ],\n        \"semantic_type\": \"\",\n        \"description\": \"\"\n      }\n    },\n    {\n      \"column\": \"correo electronico\",\n      \"properties\": {\n        \"dtype\": \"string\",\n        \"num_unique_values\": 12,\n        \"samples\": [\n          \"ricardocr@gmail.com\",\n          \"lcano1@hotmail.com\",\n          \"ag@gmail.com\"\n        ],\n        \"semantic_type\": \"\",\n        \"description\": \"\"\n      }\n    },\n    {\n      \"column\": \"pais\",\n      \"properties\": {\n        \"dtype\": \"string\",\n        \"num_unique_values\": 15,\n        \"samples\": [\n          \"venezuela\",\n          \"nicaragua\",\n          \"colombia\"\n        ],\n        \"semantic_type\": \"\",\n        \"description\": \"\"\n      }\n    },\n    {\n      \"column\": \"valor factura\",\n      \"properties\": {\n        \"dtype\": \"string\",\n        \"num_unique_values\": 11,\n        \"samples\": [\n          \"54000\",\n          \"45000\",\n          \"69702\"\n        ],\n        \"semantic_type\": \"\",\n        \"description\": \"\"\n      }\n    },\n    {\n      \"column\": \"servicio\",\n      \"properties\": {\n        \"dtype\": \"category\",\n        \"num_unique_values\": 9,\n        \"samples\": [\n          \"loguearrr\",\n          \"rogar\",\n          \"comerciooo\"\n        ],\n        \"semantic_type\": \"\",\n        \"description\": \"\"\n      }\n    },\n    {\n      \"column\": \"fecha instalacion\",\n      \"properties\": {\n        \"dtype\": \"string\",\n        \"num_unique_values\": 14,\n        \"samples\": [\n          \"10.07/2024\",\n          \"2/2/2000\",\n          \"5/3/2023\"\n        ],\n        \"semantic_type\": \"\",\n        \"description\": \"\"\n      }\n    },\n    {\n      \"column\": \"comentarios\",\n      \"properties\": {\n        \"dtype\": \"category\",\n        \"num_unique_values\": 5,\n        \"samples\": [\n          \"*\",\n          \",\",\n          \"na\"\n        ],\n        \"semantic_type\": \"\",\n        \"description\": \"\"\n      }\n    },\n    {\n      \"column\": \"observaciones\",\n      \"properties\": {\n        \"dtype\": \"category\",\n        \"num_unique_values\": 5,\n        \"samples\": [\n          \"*\",\n          \"no opino\",\n          \"na\"\n        ],\n        \"semantic_type\": \"\",\n        \"description\": \"\"\n      }\n    }\n  ]\n}"
            }
          },
          "metadata": {},
          "execution_count": 2
        }
      ]
    },
    {
      "cell_type": "code",
      "source": [
        "#Generar un DataFrame con 100 filas y 8 columnas de valores aleatorios, y luego mostrar un resumen estadístico de los datos.\n",
        "import pandas as pd\n",
        "import numpy as np\n",
        "\n",
        "# Crear un DataFrame con 100 filas y 8 columnas de valores aleatorios\n",
        "datos_df = pd.DataFrame(np.random.rand(100, 8))\n",
        "\n",
        "# Mostrar un resumen estadístico de los datos\n",
        "print(datos_df.describe())"
      ],
      "metadata": {
        "colab": {
          "base_uri": "https://localhost:8080/",
          "height": 0
        },
        "id": "tg5UGQIQj-OH",
        "outputId": "2ac5525c-4ab8-4ce4-f64c-a3a9f9548e94"
      },
      "execution_count": 3,
      "outputs": [
        {
          "output_type": "stream",
          "name": "stdout",
          "text": [
            "                0           1           2           3           4           5  \\\n",
            "count  100.000000  100.000000  100.000000  100.000000  100.000000  100.000000   \n",
            "mean     0.494496    0.450276    0.492619    0.475300    0.481582    0.476432   \n",
            "std      0.271308    0.286578    0.287146    0.285319    0.316040    0.296668   \n",
            "min      0.010975    0.000339    0.007915    0.013349    0.001277    0.012290   \n",
            "25%      0.268204    0.215530    0.251803    0.260555    0.211150    0.177109   \n",
            "50%      0.517800    0.452580    0.488000    0.484304    0.451877    0.493655   \n",
            "75%      0.726061    0.680376    0.743132    0.685847    0.801770    0.741264   \n",
            "max      0.978686    0.984612    0.991182    0.996519    0.997221    0.986889   \n",
            "\n",
            "                6           7  \n",
            "count  100.000000  100.000000  \n",
            "mean     0.536810    0.487147  \n",
            "std      0.284189    0.274475  \n",
            "min      0.008962    0.001728  \n",
            "25%      0.285078    0.277288  \n",
            "50%      0.543722    0.482598  \n",
            "75%      0.771160    0.715776  \n",
            "max      0.999195    0.980445  \n"
          ]
        }
      ]
    },
    {
      "cell_type": "markdown",
      "source": [
        "# **Parte 2**\n",
        "\n",
        "El segundo ejercicio de práctica deberás realizar el código usando las funciones y bibliotecas Numpy en Python, con el respectivo grafico según los escenarios, escribir el respectivo código y mostrar el resultado, aplicar los temas vistos en clase."
      ],
      "metadata": {
        "id": "1WXWmVDbkULH"
      }
    },
    {
      "cell_type": "code",
      "source": [
        "#Crear un array de números del 1 al 10 y mostrar la suma, la media, y el valor máximo.\n",
        "numeros = np.arange(1,11)\n",
        "print(\"Suma:\", np.sum(numeros))\n",
        "print(\"Media:\", np.mean(numeros))\n",
        "print(\"Valor máximo:\", np.max(numeros))\n",
        "#"
      ],
      "metadata": {
        "colab": {
          "base_uri": "https://localhost:8080/",
          "height": 0
        },
        "id": "vsRKyofhkW8W",
        "outputId": "48f7e841-7328-4d2a-eea1-128077772833"
      },
      "execution_count": 4,
      "outputs": [
        {
          "output_type": "stream",
          "name": "stdout",
          "text": [
            "Suma: 55\n",
            "Media: 5.5\n",
            "Valor máximo: 10\n"
          ]
        }
      ]
    },
    {
      "cell_type": "code",
      "source": [
        "#Crear un array de 3x4 lleno de ceros y luego cambiar su forma a 2x6\n",
        "ceros = np.zeros((3,4))\n",
        "print(\"Array original\")\n",
        "print(ceros)\n",
        "\n",
        "ceros = ceros.reshape(2,6)\n",
        "print(\"Array final\")\n",
        "print(ceros)"
      ],
      "metadata": {
        "colab": {
          "base_uri": "https://localhost:8080/",
          "height": 0
        },
        "id": "Oxje02ivkw1t",
        "outputId": "565e23ed-4124-4fd9-913f-c686b7ef21e2"
      },
      "execution_count": 8,
      "outputs": [
        {
          "output_type": "stream",
          "name": "stdout",
          "text": [
            "Array original\n",
            "[[0. 0. 0. 0.]\n",
            " [0. 0. 0. 0.]\n",
            " [0. 0. 0. 0.]]\n",
            "Array final\n",
            "[[0. 0. 0. 0. 0. 0.]\n",
            " [0. 0. 0. 0. 0. 0.]]\n"
          ]
        }
      ]
    },
    {
      "cell_type": "code",
      "source": [
        "#Generar una matriz aleatoria de 3x3 y calcular su transpuesta.\n",
        "matriz = np.random.rand(3,3)\n",
        "print(\"Matriz original\")\n",
        "print(matriz)\n",
        "\n",
        "transpuesta = np.transpose(matriz)\n",
        "print(\"Matriz transpuesta\")\n",
        "print(transpuesta)"
      ],
      "metadata": {
        "colab": {
          "base_uri": "https://localhost:8080/",
          "height": 0
        },
        "id": "ar68Ausilizq",
        "outputId": "47551ac2-4d7f-4a0a-a5d2-7dad8b25c8b0"
      },
      "execution_count": 9,
      "outputs": [
        {
          "output_type": "stream",
          "name": "stdout",
          "text": [
            "Matriz original\n",
            "[[0.06167365 0.65528891 0.7761603 ]\n",
            " [0.90249589 0.10453889 0.53734132]\n",
            " [0.87144397 0.90530169 0.40615249]]\n",
            "Matriz transpuesta\n",
            "[[0.06167365 0.90249589 0.87144397]\n",
            " [0.65528891 0.10453889 0.90530169]\n",
            " [0.7761603  0.53734132 0.40615249]]\n"
          ]
        }
      ]
    },
    {
      "cell_type": "code",
      "source": [
        "#Concatenar dos arrays de NumPy, cada uno con 5 valores, y luego imprimir el array concatenado.\n",
        "array1 = np.array([1,2,3,4,5])\n",
        "array2 = np.array([6,7,8,9,10])\n",
        "\n",
        "array_concatenado = np.concatenate((array1, array2))\n",
        "print(array_concatenado)"
      ],
      "metadata": {
        "colab": {
          "base_uri": "https://localhost:8080/",
          "height": 0
        },
        "id": "D1bWLWHXlnbK",
        "outputId": "9db2b3cb-8bbb-427a-a64b-c71038f8e3ca"
      },
      "execution_count": 10,
      "outputs": [
        {
          "output_type": "stream",
          "name": "stdout",
          "text": [
            "[ 1  2  3  4  5  6  7  8  9 10]\n"
          ]
        }
      ]
    }
  ]
}